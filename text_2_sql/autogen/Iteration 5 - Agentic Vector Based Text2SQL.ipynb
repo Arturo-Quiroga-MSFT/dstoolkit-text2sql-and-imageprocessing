{
  "cells": [
    {
      "cell_type": "markdown",
      "metadata": {},
      "source": [
        "Copyright (c) Microsoft Corporation.\n",
        "\n",
        "Licensed under the MIT License."
      ]
    },
    {
      "cell_type": "markdown",
      "metadata": {},
      "source": [
        "# Text2SQL with AutoGen & Azure OpenAI\n",
        "\n",
        "This notebook demonstrates how the AutoGen Agents can be integrated with Azure OpenAI to answer questions from the database based on the schemas provided. \n",
        "\n",
        "A multi-shot approach is used for SQL generation for more reliable results and reduced token usage. More details can be found in the README.md.\n",
        "\n",
        "### Dependencies\n",
        "\n",
        "To install dependencies for this demo:\n",
        "\n",
        "`uv sync --package autogen_text_2_sql`\n",
        "\n",
        "`uv add --editable text_2_sql_core`"
      ]
    },
    {
      "cell_type": "code",
      "execution_count": null,
      "metadata": {},
      "outputs": [],
      "source": [
        "# This is only needed for this notebook to work\n",
        "import sys\n",
        "from pathlib import Path\n",
        "\n",
        "# Add the parent directory of `src` to the path\n",
        "sys.path.append(str(Path.cwd() / \"src\"))"
      ]
    },
    {
      "cell_type": "code",
      "execution_count": null,
      "metadata": {},
      "outputs": [],
      "source": [
        "import dotenv\n",
        "import logging\n",
        "from autogen_agentchat.ui import Console\n",
        "from autogen_text_2_sql.autogen_text_2_sql import AutoGenText2Sql"
      ]
    },
    {
      "cell_type": "code",
      "execution_count": null,
      "metadata": {},
      "outputs": [],
      "source": [
        "logging.basicConfig(level=logging.INFO)"
      ]
    },
    {
      "cell_type": "code",
      "execution_count": null,
      "metadata": {},
      "outputs": [],
      "source": [
        "dotenv.load_dotenv()"
      ]
    },
    {
      "cell_type": "markdown",
      "metadata": {},
      "source": [
        "## Bot setup"
      ]
    },
    {
      "cell_type": "code",
      "execution_count": null,
      "metadata": {},
      "outputs": [],
      "source": [
        "agentic_text_2_sql = AutoGenText2Sql(engine_specific_rules=\"Use TOP X to limit the number of rows returned instead of LIMIT X. NEVER USE LIMIT X as it produces a syntax error.\", use_case=\"Analysing sales data across product categories.\").agentic_flow"
      ]
    },
    {
      "cell_type": "markdown",
      "metadata": {},
      "source": [
        "### Generated Queries"
      ]
    },
    {
      "cell_type": "code",
      "execution_count": 6,
      "metadata": {},
      "outputs": [
        {
          "name": "stderr",
          "output_type": "stream",
          "text": [
            "INFO:httpx:HTTP Request: POST https://aoai-text2sql-adi.openai.azure.com/openai/deployments/gpt-4o-mini/chat/completions?api-version=2024-08-01-preview \"HTTP/1.1 200 OK\"\n",
            "INFO:autogen_core.events:{\"prompt_tokens\": 62569, \"completion_tokens\": 191, \"type\": \"LLMCall\"}\n",
            "INFO:autogen_core:Publishing message of type GroupChatMessage to all subscribers: {'message': TextMessage(source='sql_query_generation_agent', models_usage=RequestUsage(prompt_tokens=62569, completion_tokens=191), content=\"I am currently unable to access the database to execute the SQL query due to a firewall restriction. However, I can provide you with the SQL query that you can run in your own environment to find out which country had the highest sales in June 2008.\\n\\nHere is the SQL query:\\n\\n```sql\\nSELECT a.CountryRegion, SUM(so.TotalDue) AS TotalSales\\nFROM SalesLT.SalesOrderHeader so\\nJOIN SalesLT.Address a ON so.ShipToAddressID = a.AddressID\\nWHERE so.OrderDate >= '2008-06-01' AND so.OrderDate < '2008-07-01'\\nGROUP BY a.CountryRegion\\nORDER BY TotalSales DESC\\nOFFSET 0 ROWS FETCH NEXT 25 ROWS ONLY;\\n```\\n\\nThis query will give you the total sales by country for June 2008, ordered by the highest sales. You can run this in your SQL environment to get the results.\", type='TextMessage')}\n",
            "INFO:autogen_core:Publishing message of type GroupChatAgentResponse to all subscribers: {'agent_response': Response(chat_message=TextMessage(source='sql_query_generation_agent', models_usage=RequestUsage(prompt_tokens=62569, completion_tokens=191), content=\"I am currently unable to access the database to execute the SQL query due to a firewall restriction. However, I can provide you with the SQL query that you can run in your own environment to find out which country had the highest sales in June 2008.\\n\\nHere is the SQL query:\\n\\n```sql\\nSELECT a.CountryRegion, SUM(so.TotalDue) AS TotalSales\\nFROM SalesLT.SalesOrderHeader so\\nJOIN SalesLT.Address a ON so.ShipToAddressID = a.AddressID\\nWHERE so.OrderDate >= '2008-06-01' AND so.OrderDate < '2008-07-01'\\nGROUP BY a.CountryRegion\\nORDER BY TotalSales DESC\\nOFFSET 0 ROWS FETCH NEXT 25 ROWS ONLY;\\n```\\n\\nThis query will give you the total sales by country for June 2008, ordered by the highest sales. You can run this in your SQL environment to get the results.\", type='TextMessage'), inner_messages=[ToolCallMessage(source='sql_query_generation_agent', models_usage=RequestUsage(prompt_tokens=61958, completion_tokens=109), content=[FunctionCall(id='call_qK7sS44z4Q8sv1mkIDUKK3m4', arguments='{\"sql_query\":\"SELECT a.CountryRegion, SUM(so.TotalDue) AS TotalSales\\\\nFROM SalesLT.SalesOrderHeader so\\\\nJOIN SalesLT.Address a ON so.ShipToAddressID = a.AddressID\\\\nWHERE so.OrderDate >= \\'2008-06-01\\' AND so.OrderDate < \\'2008-07-01\\'\\\\nGROUP BY a.CountryRegion\\\\nORDER BY TotalSales DESC\\\\nOFFSET 0 ROWS FETCH NEXT 25 ROWS ONLY;\"}', name='query_execution_with_limit')], type='ToolCallMessage'), ToolCallResultMessage(source='sql_query_generation_agent', models_usage=None, content=[FunctionExecutionResult(content='Error: (\\'42000\\', \"[42000] [Microsoft][ODBC Driver 18 for SQL Server][SQL Server]Cannot open server \\'text2sql-adventure-works\\' requested by the login. Client with IP address \\'82.132.236.64\\' is not allowed to access the server.  To enable access, use the Azure Management Portal or run sp_set_firewall_rule on the master database to create a firewall rule for this IP address or address range.  It may take up to five minutes for this change to take effect. (40615) (SQLDriverConnect)\")', call_id='call_qK7sS44z4Q8sv1mkIDUKK3m4')], type='ToolCallResultMessage'), ToolCallMessage(source='sql_query_generation_agent', models_usage=RequestUsage(prompt_tokens=62203, completion_tokens=107), content=[FunctionCall(id='call_devGqBMptvn1ciEIOC85IDkx', arguments='{\"sql_query\":\"SELECT a.CountryRegion, SUM(so.TotalDue) AS TotalSales\\\\nFROM SalesLT.SalesOrderHeader so\\\\nJOIN SalesLT.Address a ON so.ShipToAddressID = a.AddressID\\\\nWHERE so.OrderDate >= \\'2008-06-01\\' AND so.OrderDate < \\'2008-07-01\\'\\\\nGROUP BY a.CountryRegion\\\\nORDER BY TotalSales DESC\\\\nOFFSET 0 ROWS FETCH NEXT 25 ROWS ONLY;\"}', name='query_validation')], type='ToolCallMessage'), ToolCallResultMessage(source='sql_query_generation_agent', models_usage=None, content=[FunctionExecutionResult(content='True', call_id='call_devGqBMptvn1ciEIOC85IDkx')], type='ToolCallResultMessage'), ToolCallMessage(source='sql_query_generation_agent', models_usage=RequestUsage(prompt_tokens=62324, completion_tokens=109), content=[FunctionCall(id='call_WJlHhiupbeHR452PktbpgVpJ', arguments='{\"sql_query\":\"SELECT a.CountryRegion, SUM(so.TotalDue) AS TotalSales\\\\nFROM SalesLT.SalesOrderHeader so\\\\nJOIN SalesLT.Address a ON so.ShipToAddressID = a.AddressID\\\\nWHERE so.OrderDate >= \\'2008-06-01\\' AND so.OrderDate < \\'2008-07-01\\'\\\\nGROUP BY a.CountryRegion\\\\nORDER BY TotalSales DESC\\\\nOFFSET 0 ROWS FETCH NEXT 25 ROWS ONLY;\"}', name='query_execution_with_limit')], type='ToolCallMessage'), ToolCallResultMessage(source='sql_query_generation_agent', models_usage=None, content=[FunctionExecutionResult(content='Error: (\\'42000\\', \"[42000] [Microsoft][ODBC Driver 18 for SQL Server][SQL Server]Cannot open server \\'text2sql-adventure-works\\' requested by the login. Client with IP address \\'82.132.236.64\\' is not allowed to access the server.  To enable access, use the Azure Management Portal or run sp_set_firewall_rule on the master database to create a firewall rule for this IP address or address range.  It may take up to five minutes for this change to take effect. (40615) (SQLDriverConnect)\")', call_id='call_WJlHhiupbeHR452PktbpgVpJ')], type='ToolCallResultMessage')])}\n",
            "INFO:autogen_core:Calling message handler for collect_output_messages with message type GroupChatMessage published by sql_query_generation_agent/5fafbcbf-719b-4ce1-9896-33d3ad567f2d\n",
            "INFO:autogen_agentchat.events:source='sql_query_generation_agent' models_usage=RequestUsage(prompt_tokens=62569, completion_tokens=191) content=\"I am currently unable to access the database to execute the SQL query due to a firewall restriction. However, I can provide you with the SQL query that you can run in your own environment to find out which country had the highest sales in June 2008.\\n\\nHere is the SQL query:\\n\\n```sql\\nSELECT a.CountryRegion, SUM(so.TotalDue) AS TotalSales\\nFROM SalesLT.SalesOrderHeader so\\nJOIN SalesLT.Address a ON so.ShipToAddressID = a.AddressID\\nWHERE so.OrderDate >= '2008-06-01' AND so.OrderDate < '2008-07-01'\\nGROUP BY a.CountryRegion\\nORDER BY TotalSales DESC\\nOFFSET 0 ROWS FETCH NEXT 25 ROWS ONLY;\\n```\\n\\nThis query will give you the total sales by country for June 2008, ordered by the highest sales. You can run this in your SQL environment to get the results.\" type='TextMessage'\n",
            "INFO:autogen_core:Calling message handler for sql_schema_selection_agent with message type GroupChatAgentResponse published by sql_query_generation_agent/5fafbcbf-719b-4ce1-9896-33d3ad567f2d\n",
            "INFO:autogen_core.events:{\"prompt_tokens\": 62569, \"completion_tokens\": 191, \"type\": \"LLMCall\"}\n",
            "INFO:autogen_core:Publishing message of type GroupChatMessage to all subscribers: {'message': TextMessage(source='sql_query_generation_agent', models_usage=RequestUsage(prompt_tokens=62569, completion_tokens=191), content=\"I am currently unable to access the database to execute the SQL query due to a firewall restriction. However, I can provide you with the SQL query that you can run in your own environment to find out which country had the highest sales in June 2008.\\n\\nHere is the SQL query:\\n\\n```sql\\nSELECT a.CountryRegion, SUM(so.TotalDue) AS TotalSales\\nFROM SalesLT.SalesOrderHeader so\\nJOIN SalesLT.Address a ON so.ShipToAddressID = a.AddressID\\nWHERE so.OrderDate >= '2008-06-01' AND so.OrderDate < '2008-07-01'\\nGROUP BY a.CountryRegion\\nORDER BY TotalSales DESC\\nOFFSET 0 ROWS FETCH NEXT 25 ROWS ONLY;\\n```\\n\\nThis query will give you the total sales by country for June 2008, ordered by the highest sales. You can run this in your SQL environment to get the results.\", type='TextMessage')}\n",
            "INFO:autogen_core:Publishing message of type GroupChatAgentResponse to all subscribers: {'agent_response': Response(chat_message=TextMessage(source='sql_query_generation_agent', models_usage=RequestUsage(prompt_tokens=62569, completion_tokens=191), content=\"I am currently unable to access the database to execute the SQL query due to a firewall restriction. However, I can provide you with the SQL query that you can run in your own environment to find out which country had the highest sales in June 2008.\\n\\nHere is the SQL query:\\n\\n```sql\\nSELECT a.CountryRegion, SUM(so.TotalDue) AS TotalSales\\nFROM SalesLT.SalesOrderHeader so\\nJOIN SalesLT.Address a ON so.ShipToAddressID = a.AddressID\\nWHERE so.OrderDate >= '2008-06-01' AND so.OrderDate < '2008-07-01'\\nGROUP BY a.CountryRegion\\nORDER BY TotalSales DESC\\nOFFSET 0 ROWS FETCH NEXT 25 ROWS ONLY;\\n```\\n\\nThis query will give you the total sales by country for June 2008, ordered by the highest sales. You can run this in your SQL environment to get the results.\", type='TextMessage'), inner_messages=[ToolCallMessage(source='sql_query_generation_agent', models_usage=RequestUsage(prompt_tokens=61958, completion_tokens=109), content=[FunctionCall(id='call_qK7sS44z4Q8sv1mkIDUKK3m4', arguments='{\"sql_query\":\"SELECT a.CountryRegion, SUM(so.TotalDue) AS TotalSales\\\\nFROM SalesLT.SalesOrderHeader so\\\\nJOIN SalesLT.Address a ON so.ShipToAddressID = a.AddressID\\\\nWHERE so.OrderDate >= \\'2008-06-01\\' AND so.OrderDate < \\'2008-07-01\\'\\\\nGROUP BY a.CountryRegion\\\\nORDER BY TotalSales DESC\\\\nOFFSET 0 ROWS FETCH NEXT 25 ROWS ONLY;\"}', name='query_execution_with_limit')], type='ToolCallMessage'), ToolCallResultMessage(source='sql_query_generation_agent', models_usage=None, content=[FunctionExecutionResult(content='Error: (\\'42000\\', \"[42000] [Microsoft][ODBC Driver 18 for SQL Server][SQL Server]Cannot open server \\'text2sql-adventure-works\\' requested by the login. Client with IP address \\'82.132.236.64\\' is not allowed to access the server.  To enable access, use the Azure Management Portal or run sp_set_firewall_rule on the master database to create a firewall rule for this IP address or address range.  It may take up to five minutes for this change to take effect. (40615) (SQLDriverConnect)\")', call_id='call_qK7sS44z4Q8sv1mkIDUKK3m4')], type='ToolCallResultMessage'), ToolCallMessage(source='sql_query_generation_agent', models_usage=RequestUsage(prompt_tokens=62203, completion_tokens=107), content=[FunctionCall(id='call_devGqBMptvn1ciEIOC85IDkx', arguments='{\"sql_query\":\"SELECT a.CountryRegion, SUM(so.TotalDue) AS TotalSales\\\\nFROM SalesLT.SalesOrderHeader so\\\\nJOIN SalesLT.Address a ON so.ShipToAddressID = a.AddressID\\\\nWHERE so.OrderDate >= \\'2008-06-01\\' AND so.OrderDate < \\'2008-07-01\\'\\\\nGROUP BY a.CountryRegion\\\\nORDER BY TotalSales DESC\\\\nOFFSET 0 ROWS FETCH NEXT 25 ROWS ONLY;\"}', name='query_validation')], type='ToolCallMessage'), ToolCallResultMessage(source='sql_query_generation_agent', models_usage=None, content=[FunctionExecutionResult(content='True', call_id='call_devGqBMptvn1ciEIOC85IDkx')], type='ToolCallResultMessage'), ToolCallMessage(source='sql_query_generation_agent', models_usage=RequestUsage(prompt_tokens=62324, completion_tokens=109), content=[FunctionCall(id='call_WJlHhiupbeHR452PktbpgVpJ', arguments='{\"sql_query\":\"SELECT a.CountryRegion, SUM(so.TotalDue) AS TotalSales\\\\nFROM SalesLT.SalesOrderHeader so\\\\nJOIN SalesLT.Address a ON so.ShipToAddressID = a.AddressID\\\\nWHERE so.OrderDate >= \\'2008-06-01\\' AND so.OrderDate < \\'2008-07-01\\'\\\\nGROUP BY a.CountryRegion\\\\nORDER BY TotalSales DESC\\\\nOFFSET 0 ROWS FETCH NEXT 25 ROWS ONLY;\"}', name='query_execution_with_limit')], type='ToolCallMessage'), ToolCallResultMessage(source='sql_query_generation_agent', models_usage=None, content=[FunctionExecutionResult(content='Error: (\\'42000\\', \"[42000] [Microsoft][ODBC Driver 18 for SQL Server][SQL Server]Cannot open server \\'text2sql-adventure-works\\' requested by the login. Client with IP address \\'82.132.236.64\\' is not allowed to access the server.  To enable access, use the Azure Management Portal or run sp_set_firewall_rule on the master database to create a firewall rule for this IP address or address range.  It may take up to five minutes for this change to take effect. (40615) (SQLDriverConnect)\")', call_id='call_WJlHhiupbeHR452PktbpgVpJ')], type='ToolCallResultMessage')])}\n",
            "INFO:autogen_core:Calling message handler for collect_output_messages with message type GroupChatMessage published by sql_query_generation_agent/5fafbcbf-719b-4ce1-9896-33d3ad567f2d\n",
            "INFO:autogen_agentchat.events:source='sql_query_generation_agent' models_usage=RequestUsage(prompt_tokens=62569, completion_tokens=191) content=\"I am currently unable to access the database to execute the SQL query due to a firewall restriction. However, I can provide you with the SQL query that you can run in your own environment to find out which country had the highest sales in June 2008.\\n\\nHere is the SQL query:\\n\\n```sql\\nSELECT a.CountryRegion, SUM(so.TotalDue) AS TotalSales\\nFROM SalesLT.SalesOrderHeader so\\nJOIN SalesLT.Address a ON so.ShipToAddressID = a.AddressID\\nWHERE so.OrderDate >= '2008-06-01' AND so.OrderDate < '2008-07-01'\\nGROUP BY a.CountryRegion\\nORDER BY TotalSales DESC\\nOFFSET 0 ROWS FETCH NEXT 25 ROWS ONLY;\\n```\\n\\nThis query will give you the total sales by country for June 2008, ordered by the highest sales. You can run this in your SQL environment to get the results.\" type='TextMessage'\n",
            "INFO:autogen_core:Calling message handler for sql_schema_selection_agent with message type GroupChatAgentResponse published by sql_query_generation_agent/5fafbcbf-719b-4ce1-9896-33d3ad567f2d\n",
            "INFO:autogen_core:Calling message handler for sql_query_correction_agent with message type GroupChatAgentResponse published by sql_query_generation_agent/5fafbcbf-719b-4ce1-9896-33d3ad567f2d\n",
            "INFO:autogen_core:Calling message handler for answer_agent with message type GroupChatAgentResponse published by sql_query_generation_agent/5fafbcbf-719b-4ce1-9896-33d3ad567f2d\n",
            "INFO:autogen_core:Calling message handler for question_decomposition_agent with message type GroupChatAgentResponse published by sql_query_generation_agent/5fafbcbf-719b-4ce1-9896-33d3ad567f2d\n",
            "INFO:autogen_core:Calling message handler for sql_disambiguation_agent with message type GroupChatAgentResponse published by sql_query_generation_agent/5fafbcbf-719b-4ce1-9896-33d3ad567f2d\n",
            "INFO:autogen_core:Calling message handler for sql_query_cache_agent with message type GroupChatAgentResponse published by sql_query_generation_agent/5fafbcbf-719b-4ce1-9896-33d3ad567f2d\n",
            "INFO:autogen_core:Calling message handler for group_chat_manager with message type GroupChatAgentResponse published by sql_query_generation_agent/5fafbcbf-719b-4ce1-9896-33d3ad567f2d\n",
            "INFO:autogen_core:Publishing message of type GroupChatTermination to all subscribers: {'message': StopMessage(source='MaxMessageTermination', models_usage=None, content='Maximum number of messages 20 reached, current message count: 24', type='StopMessage')}\n",
            "INFO:autogen_core:Calling message handler for collect_output_messages with message type GroupChatTermination published by group_chat_manager/5fafbcbf-719b-4ce1-9896-33d3ad567f2d\n",
            "INFO:autogen_agentchat.events:source='MaxMessageTermination' models_usage=None content='Maximum number of messages 20 reached, current message count: 24' type='StopMessage'\n"
          ]
        }
      ],
      "source": [
        "result = agentic_text_2_sql.run_stream(task=\"What country did we sell the most to in June 2008?\")\n",
        "await Console(result)"
      ]
    },
    {
      "cell_type": "code",
      "execution_count": null,
      "metadata": {},
      "outputs": [],
      "source": [
        "await agentic_text_2_sql.reset()"
      ]
    },
    {
      "cell_type": "code",
      "execution_count": null,
      "metadata": {},
      "outputs": [],
      "source": [
        "result = agentic_text_2_sql.run_stream(task=\"What are the total number of sales within 2008 for the mountain bike category?\")\n",
        "await Console(result)"
      ]
    },
    {
      "cell_type": "code",
      "execution_count": null,
      "metadata": {},
      "outputs": [],
      "source": [
        "await agentic_text_2_sql.reset()"
      ]
    },
    {
      "cell_type": "code",
      "execution_count": null,
      "metadata": {},
      "outputs": [],
      "source": [
        "result = agentic_text_2_sql.run_stream(task=\"What are the total number of sales within 2008?\")\n",
        "await Console(result)"
      ]
    },
    {
      "cell_type": "code",
      "execution_count": null,
      "metadata": {},
      "outputs": [],
      "source": [
        "\n",
        "await agentic_text_2_sql.reset()"
      ]
    },
    {
      "cell_type": "code",
      "execution_count": null,
      "metadata": {},
      "outputs": [],
      "source": []
    }
  ],
  "metadata": {
    "kernelspec": {
      "display_name": "Python 3",
      "language": "python",
      "name": "python3"
    },
    "language_info": {
      "codemirror_mode": {
        "name": "ipython",
        "version": 3
      },
      "file_extension": ".py",
      "mimetype": "text/x-python",
      "name": "python",
      "nbconvert_exporter": "python",
      "pygments_lexer": "ipython3",
      "version": "3.12.7"
    }
  },
  "nbformat": 4,
  "nbformat_minor": 2
}
